{
 "cells": [
  {
   "cell_type": "markdown",
   "metadata": {},
   "source": [
    "# Using different sources to import financial data"
   ]
  },
  {
   "cell_type": "code",
   "execution_count": 1,
   "metadata": {},
   "outputs": [],
   "source": [
    "# First let us import the common libraries:\n",
    "\n",
    "import pandas as pd\n",
    "import datetime"
   ]
  },
  {
   "cell_type": "code",
   "execution_count": 2,
   "metadata": {},
   "outputs": [],
   "source": [
    "# Define the time frame for our analysis:\n",
    "\n",
    "start = datetime.datetime(2018,1,1)\n",
    "end = datetime.date.today()\n",
    "\n",
    "# Define the Ticker we will be using: We will be using the Apple stocks data\n",
    "\n",
    "Ticker = \"AAPL\""
   ]
  },
  {
   "cell_type": "markdown",
   "metadata": {},
   "source": [
    "# Source_1: Yahoo"
   ]
  },
  {
   "cell_type": "code",
   "execution_count": 3,
   "metadata": {},
   "outputs": [],
   "source": [
    "import pandas_datareader as web"
   ]
  },
  {
   "cell_type": "code",
   "execution_count": 4,
   "metadata": {},
   "outputs": [],
   "source": [
    "df = web.DataReader(Ticker , data_source='yahoo', start= start, end= end)"
   ]
  },
  {
   "cell_type": "code",
   "execution_count": 5,
   "metadata": {},
   "outputs": [
    {
     "data": {
      "text/plain": [
       "pandas.core.frame.DataFrame"
      ]
     },
     "execution_count": 5,
     "metadata": {},
     "output_type": "execute_result"
    }
   ],
   "source": [
    "type(df)"
   ]
  },
  {
   "cell_type": "code",
   "execution_count": 6,
   "metadata": {},
   "outputs": [
    {
     "data": {
      "text/html": [
       "<div>\n",
       "<style scoped>\n",
       "    .dataframe tbody tr th:only-of-type {\n",
       "        vertical-align: middle;\n",
       "    }\n",
       "\n",
       "    .dataframe tbody tr th {\n",
       "        vertical-align: top;\n",
       "    }\n",
       "\n",
       "    .dataframe thead th {\n",
       "        text-align: right;\n",
       "    }\n",
       "</style>\n",
       "<table border=\"1\" class=\"dataframe\">\n",
       "  <thead>\n",
       "    <tr style=\"text-align: right;\">\n",
       "      <th></th>\n",
       "      <th>High</th>\n",
       "      <th>Low</th>\n",
       "      <th>Open</th>\n",
       "      <th>Close</th>\n",
       "      <th>Volume</th>\n",
       "      <th>Adj Close</th>\n",
       "    </tr>\n",
       "    <tr>\n",
       "      <th>Date</th>\n",
       "      <th></th>\n",
       "      <th></th>\n",
       "      <th></th>\n",
       "      <th></th>\n",
       "      <th></th>\n",
       "      <th></th>\n",
       "    </tr>\n",
       "  </thead>\n",
       "  <tbody>\n",
       "    <tr>\n",
       "      <th>2018-01-02</th>\n",
       "      <td>172.300003</td>\n",
       "      <td>169.259995</td>\n",
       "      <td>170.160004</td>\n",
       "      <td>172.259995</td>\n",
       "      <td>25555900.0</td>\n",
       "      <td>168.339050</td>\n",
       "    </tr>\n",
       "    <tr>\n",
       "      <th>2018-01-03</th>\n",
       "      <td>174.550003</td>\n",
       "      <td>171.960007</td>\n",
       "      <td>172.529999</td>\n",
       "      <td>172.229996</td>\n",
       "      <td>29517900.0</td>\n",
       "      <td>168.309738</td>\n",
       "    </tr>\n",
       "    <tr>\n",
       "      <th>2018-01-04</th>\n",
       "      <td>173.470001</td>\n",
       "      <td>172.080002</td>\n",
       "      <td>172.539993</td>\n",
       "      <td>173.029999</td>\n",
       "      <td>22434600.0</td>\n",
       "      <td>169.091522</td>\n",
       "    </tr>\n",
       "    <tr>\n",
       "      <th>2018-01-05</th>\n",
       "      <td>175.369995</td>\n",
       "      <td>173.050003</td>\n",
       "      <td>173.440002</td>\n",
       "      <td>175.000000</td>\n",
       "      <td>23660000.0</td>\n",
       "      <td>171.016678</td>\n",
       "    </tr>\n",
       "    <tr>\n",
       "      <th>2018-01-08</th>\n",
       "      <td>175.610001</td>\n",
       "      <td>173.929993</td>\n",
       "      <td>174.350006</td>\n",
       "      <td>174.350006</td>\n",
       "      <td>20567800.0</td>\n",
       "      <td>170.381485</td>\n",
       "    </tr>\n",
       "  </tbody>\n",
       "</table>\n",
       "</div>"
      ],
      "text/plain": [
       "                  High         Low        Open       Close      Volume  \\\n",
       "Date                                                                     \n",
       "2018-01-02  172.300003  169.259995  170.160004  172.259995  25555900.0   \n",
       "2018-01-03  174.550003  171.960007  172.529999  172.229996  29517900.0   \n",
       "2018-01-04  173.470001  172.080002  172.539993  173.029999  22434600.0   \n",
       "2018-01-05  175.369995  173.050003  173.440002  175.000000  23660000.0   \n",
       "2018-01-08  175.610001  173.929993  174.350006  174.350006  20567800.0   \n",
       "\n",
       "             Adj Close  \n",
       "Date                    \n",
       "2018-01-02  168.339050  \n",
       "2018-01-03  168.309738  \n",
       "2018-01-04  169.091522  \n",
       "2018-01-05  171.016678  \n",
       "2018-01-08  170.381485  "
      ]
     },
     "execution_count": 6,
     "metadata": {},
     "output_type": "execute_result"
    }
   ],
   "source": [
    "df.head()"
   ]
  },
  {
   "cell_type": "markdown",
   "metadata": {},
   "source": [
    "# Source_2: Quandl\n",
    "\n",
    "https://www.quandl.com/\n",
    "\n",
    "To use the quandal to search for an Ticker use the \"WIKI/+Ticker\":"
   ]
  },
  {
   "cell_type": "code",
   "execution_count": 7,
   "metadata": {},
   "outputs": [],
   "source": [
    "import quandl"
   ]
  },
  {
   "cell_type": "code",
   "execution_count": 8,
   "metadata": {},
   "outputs": [],
   "source": [
    "apple = quandl.get(\"WIKI/\"+Ticker, start_date=start, end_date=end)"
   ]
  },
  {
   "cell_type": "code",
   "execution_count": 9,
   "metadata": {},
   "outputs": [
    {
     "data": {
      "text/plain": [
       "pandas.core.frame.DataFrame"
      ]
     },
     "execution_count": 9,
     "metadata": {},
     "output_type": "execute_result"
    }
   ],
   "source": [
    "type(apple)"
   ]
  },
  {
   "cell_type": "code",
   "execution_count": 10,
   "metadata": {},
   "outputs": [
    {
     "data": {
      "text/html": [
       "<div>\n",
       "<style scoped>\n",
       "    .dataframe tbody tr th:only-of-type {\n",
       "        vertical-align: middle;\n",
       "    }\n",
       "\n",
       "    .dataframe tbody tr th {\n",
       "        vertical-align: top;\n",
       "    }\n",
       "\n",
       "    .dataframe thead th {\n",
       "        text-align: right;\n",
       "    }\n",
       "</style>\n",
       "<table border=\"1\" class=\"dataframe\">\n",
       "  <thead>\n",
       "    <tr style=\"text-align: right;\">\n",
       "      <th></th>\n",
       "      <th>Open</th>\n",
       "      <th>High</th>\n",
       "      <th>Low</th>\n",
       "      <th>Close</th>\n",
       "      <th>Volume</th>\n",
       "      <th>Ex-Dividend</th>\n",
       "      <th>Split Ratio</th>\n",
       "      <th>Adj. Open</th>\n",
       "      <th>Adj. High</th>\n",
       "      <th>Adj. Low</th>\n",
       "      <th>Adj. Close</th>\n",
       "      <th>Adj. Volume</th>\n",
       "    </tr>\n",
       "    <tr>\n",
       "      <th>Date</th>\n",
       "      <th></th>\n",
       "      <th></th>\n",
       "      <th></th>\n",
       "      <th></th>\n",
       "      <th></th>\n",
       "      <th></th>\n",
       "      <th></th>\n",
       "      <th></th>\n",
       "      <th></th>\n",
       "      <th></th>\n",
       "      <th></th>\n",
       "      <th></th>\n",
       "    </tr>\n",
       "  </thead>\n",
       "  <tbody>\n",
       "    <tr>\n",
       "      <th>2018-01-02</th>\n",
       "      <td>170.16</td>\n",
       "      <td>172.30</td>\n",
       "      <td>169.26</td>\n",
       "      <td>172.26</td>\n",
       "      <td>25048048.0</td>\n",
       "      <td>0.0</td>\n",
       "      <td>1.0</td>\n",
       "      <td>170.16</td>\n",
       "      <td>172.30</td>\n",
       "      <td>169.26</td>\n",
       "      <td>172.26</td>\n",
       "      <td>25048048.0</td>\n",
       "    </tr>\n",
       "    <tr>\n",
       "      <th>2018-01-03</th>\n",
       "      <td>172.53</td>\n",
       "      <td>174.55</td>\n",
       "      <td>171.96</td>\n",
       "      <td>172.23</td>\n",
       "      <td>28819653.0</td>\n",
       "      <td>0.0</td>\n",
       "      <td>1.0</td>\n",
       "      <td>172.53</td>\n",
       "      <td>174.55</td>\n",
       "      <td>171.96</td>\n",
       "      <td>172.23</td>\n",
       "      <td>28819653.0</td>\n",
       "    </tr>\n",
       "    <tr>\n",
       "      <th>2018-01-04</th>\n",
       "      <td>172.54</td>\n",
       "      <td>173.47</td>\n",
       "      <td>172.08</td>\n",
       "      <td>173.03</td>\n",
       "      <td>22211345.0</td>\n",
       "      <td>0.0</td>\n",
       "      <td>1.0</td>\n",
       "      <td>172.54</td>\n",
       "      <td>173.47</td>\n",
       "      <td>172.08</td>\n",
       "      <td>173.03</td>\n",
       "      <td>22211345.0</td>\n",
       "    </tr>\n",
       "    <tr>\n",
       "      <th>2018-01-05</th>\n",
       "      <td>173.44</td>\n",
       "      <td>175.37</td>\n",
       "      <td>173.05</td>\n",
       "      <td>175.00</td>\n",
       "      <td>23016177.0</td>\n",
       "      <td>0.0</td>\n",
       "      <td>1.0</td>\n",
       "      <td>173.44</td>\n",
       "      <td>175.37</td>\n",
       "      <td>173.05</td>\n",
       "      <td>175.00</td>\n",
       "      <td>23016177.0</td>\n",
       "    </tr>\n",
       "    <tr>\n",
       "      <th>2018-01-08</th>\n",
       "      <td>174.35</td>\n",
       "      <td>175.61</td>\n",
       "      <td>173.93</td>\n",
       "      <td>174.35</td>\n",
       "      <td>20134092.0</td>\n",
       "      <td>0.0</td>\n",
       "      <td>1.0</td>\n",
       "      <td>174.35</td>\n",
       "      <td>175.61</td>\n",
       "      <td>173.93</td>\n",
       "      <td>174.35</td>\n",
       "      <td>20134092.0</td>\n",
       "    </tr>\n",
       "  </tbody>\n",
       "</table>\n",
       "</div>"
      ],
      "text/plain": [
       "              Open    High     Low   Close      Volume  Ex-Dividend  \\\n",
       "Date                                                                  \n",
       "2018-01-02  170.16  172.30  169.26  172.26  25048048.0          0.0   \n",
       "2018-01-03  172.53  174.55  171.96  172.23  28819653.0          0.0   \n",
       "2018-01-04  172.54  173.47  172.08  173.03  22211345.0          0.0   \n",
       "2018-01-05  173.44  175.37  173.05  175.00  23016177.0          0.0   \n",
       "2018-01-08  174.35  175.61  173.93  174.35  20134092.0          0.0   \n",
       "\n",
       "            Split Ratio  Adj. Open  Adj. High  Adj. Low  Adj. Close  \\\n",
       "Date                                                                  \n",
       "2018-01-02          1.0     170.16     172.30    169.26      172.26   \n",
       "2018-01-03          1.0     172.53     174.55    171.96      172.23   \n",
       "2018-01-04          1.0     172.54     173.47    172.08      173.03   \n",
       "2018-01-05          1.0     173.44     175.37    173.05      175.00   \n",
       "2018-01-08          1.0     174.35     175.61    173.93      174.35   \n",
       "\n",
       "            Adj. Volume  \n",
       "Date                     \n",
       "2018-01-02   25048048.0  \n",
       "2018-01-03   28819653.0  \n",
       "2018-01-04   22211345.0  \n",
       "2018-01-05   23016177.0  \n",
       "2018-01-08   20134092.0  "
      ]
     },
     "execution_count": 10,
     "metadata": {},
     "output_type": "execute_result"
    }
   ],
   "source": [
    "apple.head()"
   ]
  },
  {
   "cell_type": "code",
   "execution_count": 12,
   "metadata": {},
   "outputs": [],
   "source": [
    "# Using quandal to search for PG ticker:\n",
    "Pg = quandl.get(\"WIKI/PG\", start_date=start, end_date=end)"
   ]
  },
  {
   "cell_type": "markdown",
   "metadata": {},
   "source": [
    "# Source_3: Alpha Vantage\n",
    "\n",
    "# Get you own API key from here:\n",
    "https://www.alphavantage.co/support/#api-key\n"
   ]
  },
  {
   "cell_type": "code",
   "execution_count": 13,
   "metadata": {},
   "outputs": [],
   "source": [
    "from alpha_vantage.timeseries import TimeSeries\n",
    "import time\n",
    "# Register to get your own API Key, this key won't work:\n",
    "api_key = 'xxxxxxxxxxxxxxxx'"
   ]
  },
  {
   "cell_type": "code",
   "execution_count": 14,
   "metadata": {},
   "outputs": [
    {
     "name": "stdout",
     "output_type": "stream",
     "text": [
      "                     1. open  2. high  3. low  4. close  5. volume\n",
      "date                                                              \n",
      "2019-07-26 09:31:00  207.570  207.570  207.57    207.57   423077.0\n",
      "2019-07-26 09:32:00  207.550  207.890  207.51    207.89    90545.0\n",
      "2019-07-26 09:33:00  207.880  208.022  207.76    208.02   120373.0\n",
      "2019-07-26 09:34:00  208.038  208.470  208.03    208.41   196585.0\n",
      "2019-07-26 09:35:00  208.410  208.470  208.22    208.26   116013.0\n"
     ]
    }
   ],
   "source": [
    "# Providing all the credentials and defining how the data will be imported:\n",
    "ts = TimeSeries(key=api_key, output_format='pandas')\n",
    "\n",
    "# Importing data on the basis of Ticker name, \n",
    "# Data can be imported as per our chosen timeintervals, over here data will be collected every minute:\n",
    "data, meta_data = ts.get_intraday(symbol='AAPL', interval = '1min', outputsize = 'full')\n",
    "\n",
    "print(data.head())"
   ]
  },
  {
   "cell_type": "code",
   "execution_count": null,
   "metadata": {},
   "outputs": [],
   "source": []
  }
 ],
 "metadata": {
  "kernelspec": {
   "display_name": "Python 3",
   "language": "python",
   "name": "python3"
  },
  "language_info": {
   "codemirror_mode": {
    "name": "ipython",
    "version": 3
   },
   "file_extension": ".py",
   "mimetype": "text/x-python",
   "name": "python",
   "nbconvert_exporter": "python",
   "pygments_lexer": "ipython3",
   "version": "3.7.3"
  }
 },
 "nbformat": 4,
 "nbformat_minor": 2
}
