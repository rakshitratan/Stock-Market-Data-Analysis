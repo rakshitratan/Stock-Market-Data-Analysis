{
 "cells": [
  {
   "cell_type": "code",
   "execution_count": 1,
   "metadata": {},
   "outputs": [],
   "source": [
    "#Let's go ahead and start with some imports\n",
    "import pandas as pd\n",
    "from pandas import Series,DataFrame\n",
    "import numpy as np\n",
    "\n",
    "# For reading stock data from yahoo\n",
    "import pandas_datareader as web\n",
    "\n",
    "# For time stamps\n",
    "from datetime import datetime\n",
    "\n",
    "import warnings\n",
    "import itertools\n",
    "\n",
    "# For Visualization\n",
    "\n",
    "import matplotlib\n",
    "import matplotlib.pyplot as plt\n",
    "import matplotlib.pyplot as plt\n",
    "warnings.filterwarnings(\"ignore\")\n",
    "plt.style.use('fivethirtyeight')\n",
    "%matplotlib inline\n",
    "\n",
    "# For sharp and contrast graph plotting\n",
    "\n",
    "matplotlib.rcParams['axes.labelsize'] = 14\n",
    "matplotlib.rcParams['xtick.labelsize'] = 12\n",
    "matplotlib.rcParams['ytick.labelsize'] = 12\n",
    "matplotlib.rcParams['text.color'] = 'k'"
   ]
  },
  {
   "cell_type": "code",
   "execution_count": 2,
   "metadata": {},
   "outputs": [
    {
     "data": {
      "text/html": [
       "<div>\n",
       "<style scoped>\n",
       "    .dataframe tbody tr th:only-of-type {\n",
       "        vertical-align: middle;\n",
       "    }\n",
       "\n",
       "    .dataframe tbody tr th {\n",
       "        vertical-align: top;\n",
       "    }\n",
       "\n",
       "    .dataframe thead th {\n",
       "        text-align: right;\n",
       "    }\n",
       "</style>\n",
       "<table border=\"1\" class=\"dataframe\">\n",
       "  <thead>\n",
       "    <tr style=\"text-align: right;\">\n",
       "      <th></th>\n",
       "      <th>High</th>\n",
       "      <th>Low</th>\n",
       "      <th>Open</th>\n",
       "      <th>Close</th>\n",
       "      <th>Volume</th>\n",
       "      <th>Adj Close</th>\n",
       "    </tr>\n",
       "    <tr>\n",
       "      <th>Date</th>\n",
       "      <th></th>\n",
       "      <th></th>\n",
       "      <th></th>\n",
       "      <th></th>\n",
       "      <th></th>\n",
       "      <th></th>\n",
       "    </tr>\n",
       "  </thead>\n",
       "  <tbody>\n",
       "    <tr>\n",
       "      <th>1979-09-17</th>\n",
       "      <td>110.059998</td>\n",
       "      <td>108.400002</td>\n",
       "      <td>108.760002</td>\n",
       "      <td>108.839996</td>\n",
       "      <td>37610000</td>\n",
       "      <td>108.839996</td>\n",
       "    </tr>\n",
       "    <tr>\n",
       "      <th>1979-09-18</th>\n",
       "      <td>109.000000</td>\n",
       "      <td>107.320000</td>\n",
       "      <td>108.839996</td>\n",
       "      <td>108.000000</td>\n",
       "      <td>38750000</td>\n",
       "      <td>108.000000</td>\n",
       "    </tr>\n",
       "    <tr>\n",
       "      <th>1979-09-19</th>\n",
       "      <td>109.019997</td>\n",
       "      <td>107.519997</td>\n",
       "      <td>108.000000</td>\n",
       "      <td>108.279999</td>\n",
       "      <td>35370000</td>\n",
       "      <td>108.279999</td>\n",
       "    </tr>\n",
       "    <tr>\n",
       "      <th>1979-09-20</th>\n",
       "      <td>110.690002</td>\n",
       "      <td>107.589996</td>\n",
       "      <td>108.279999</td>\n",
       "      <td>110.510002</td>\n",
       "      <td>45100000</td>\n",
       "      <td>110.510002</td>\n",
       "    </tr>\n",
       "    <tr>\n",
       "      <th>1979-09-21</th>\n",
       "      <td>111.580002</td>\n",
       "      <td>109.459999</td>\n",
       "      <td>110.510002</td>\n",
       "      <td>110.470001</td>\n",
       "      <td>52380000</td>\n",
       "      <td>110.470001</td>\n",
       "    </tr>\n",
       "  </tbody>\n",
       "</table>\n",
       "</div>"
      ],
      "text/plain": [
       "                  High         Low        Open       Close    Volume  \\\n",
       "Date                                                                   \n",
       "1979-09-17  110.059998  108.400002  108.760002  108.839996  37610000   \n",
       "1979-09-18  109.000000  107.320000  108.839996  108.000000  38750000   \n",
       "1979-09-19  109.019997  107.519997  108.000000  108.279999  35370000   \n",
       "1979-09-20  110.690002  107.589996  108.279999  110.510002  45100000   \n",
       "1979-09-21  111.580002  109.459999  110.510002  110.470001  52380000   \n",
       "\n",
       "             Adj Close  \n",
       "Date                    \n",
       "1979-09-17  108.839996  \n",
       "1979-09-18  108.000000  \n",
       "1979-09-19  108.279999  \n",
       "1979-09-20  110.510002  \n",
       "1979-09-21  110.470001  "
      ]
     },
     "execution_count": 2,
     "metadata": {},
     "output_type": "execute_result"
    }
   ],
   "source": [
    "# The S&P 500 will be used for this analysis\n",
    "ticker = ['^GSPC']\n",
    "\n",
    "# To Set up End and Start times for data grab\n",
    "end = datetime.now()\n",
    "start = datetime(end.year - 40,end.month,end.day)\n",
    "\n",
    "    \n",
    "df = web.DataReader('^GSPC','yahoo',start,end)\n",
    "df.head()"
   ]
  },
  {
   "cell_type": "markdown",
   "metadata": {},
   "source": [
    "# Saving te file as CSV:"
   ]
  },
  {
   "cell_type": "code",
   "execution_count": 4,
   "metadata": {},
   "outputs": [
    {
     "data": {
      "text/html": [
       "<div>\n",
       "<style scoped>\n",
       "    .dataframe tbody tr th:only-of-type {\n",
       "        vertical-align: middle;\n",
       "    }\n",
       "\n",
       "    .dataframe tbody tr th {\n",
       "        vertical-align: top;\n",
       "    }\n",
       "\n",
       "    .dataframe thead th {\n",
       "        text-align: right;\n",
       "    }\n",
       "</style>\n",
       "<table border=\"1\" class=\"dataframe\">\n",
       "  <thead>\n",
       "    <tr style=\"text-align: right;\">\n",
       "      <th></th>\n",
       "      <th>Date</th>\n",
       "      <th>High</th>\n",
       "      <th>Low</th>\n",
       "      <th>Open</th>\n",
       "      <th>Close</th>\n",
       "      <th>Volume</th>\n",
       "      <th>Adj Close</th>\n",
       "    </tr>\n",
       "  </thead>\n",
       "  <tbody>\n",
       "    <tr>\n",
       "      <th>0</th>\n",
       "      <td>1986-03-13</td>\n",
       "      <td>0.101562</td>\n",
       "      <td>0.088542</td>\n",
       "      <td>0.088542</td>\n",
       "      <td>0.097222</td>\n",
       "      <td>1.031789e+09</td>\n",
       "      <td>0.062761</td>\n",
       "    </tr>\n",
       "    <tr>\n",
       "      <th>1</th>\n",
       "      <td>1986-03-14</td>\n",
       "      <td>0.102431</td>\n",
       "      <td>0.097222</td>\n",
       "      <td>0.097222</td>\n",
       "      <td>0.100694</td>\n",
       "      <td>3.081600e+08</td>\n",
       "      <td>0.065003</td>\n",
       "    </tr>\n",
       "    <tr>\n",
       "      <th>2</th>\n",
       "      <td>1986-03-17</td>\n",
       "      <td>0.103299</td>\n",
       "      <td>0.100694</td>\n",
       "      <td>0.100694</td>\n",
       "      <td>0.102431</td>\n",
       "      <td>1.331712e+08</td>\n",
       "      <td>0.066124</td>\n",
       "    </tr>\n",
       "    <tr>\n",
       "      <th>3</th>\n",
       "      <td>1986-03-18</td>\n",
       "      <td>0.103299</td>\n",
       "      <td>0.098958</td>\n",
       "      <td>0.102431</td>\n",
       "      <td>0.099826</td>\n",
       "      <td>6.776640e+07</td>\n",
       "      <td>0.064443</td>\n",
       "    </tr>\n",
       "    <tr>\n",
       "      <th>4</th>\n",
       "      <td>1986-03-19</td>\n",
       "      <td>0.100694</td>\n",
       "      <td>0.097222</td>\n",
       "      <td>0.099826</td>\n",
       "      <td>0.098090</td>\n",
       "      <td>4.789440e+07</td>\n",
       "      <td>0.063322</td>\n",
       "    </tr>\n",
       "  </tbody>\n",
       "</table>\n",
       "</div>"
      ],
      "text/plain": [
       "         Date      High       Low      Open     Close        Volume  Adj Close\n",
       "0  1986-03-13  0.101562  0.088542  0.088542  0.097222  1.031789e+09   0.062761\n",
       "1  1986-03-14  0.102431  0.097222  0.097222  0.100694  3.081600e+08   0.065003\n",
       "2  1986-03-17  0.103299  0.100694  0.100694  0.102431  1.331712e+08   0.066124\n",
       "3  1986-03-18  0.103299  0.098958  0.102431  0.099826  6.776640e+07   0.064443\n",
       "4  1986-03-19  0.100694  0.097222  0.099826  0.098090  4.789440e+07   0.063322"
      ]
     },
     "execution_count": 4,
     "metadata": {},
     "output_type": "execute_result"
    }
   ],
   "source": [
    "df.to_csv('stock.csv')\n",
    "\n",
    "# Reading the csv file:\n",
    "\n",
    "stock = pd.read_csv('df.csv', parse_dates=True)\n",
    "stock.head()"
   ]
  },
  {
   "cell_type": "markdown",
   "metadata": {},
   "source": [
    "# Only selecting the relevent data:"
   ]
  },
  {
   "cell_type": "code",
   "execution_count": 5,
   "metadata": {},
   "outputs": [
    {
     "data": {
      "text/html": [
       "<div>\n",
       "<style scoped>\n",
       "    .dataframe tbody tr th:only-of-type {\n",
       "        vertical-align: middle;\n",
       "    }\n",
       "\n",
       "    .dataframe tbody tr th {\n",
       "        vertical-align: top;\n",
       "    }\n",
       "\n",
       "    .dataframe thead th {\n",
       "        text-align: right;\n",
       "    }\n",
       "</style>\n",
       "<table border=\"1\" class=\"dataframe\">\n",
       "  <thead>\n",
       "    <tr style=\"text-align: right;\">\n",
       "      <th></th>\n",
       "      <th>Date</th>\n",
       "      <th>Adj Close</th>\n",
       "    </tr>\n",
       "  </thead>\n",
       "  <tbody>\n",
       "    <tr>\n",
       "      <th>0</th>\n",
       "      <td>1986-03-13</td>\n",
       "      <td>0.062761</td>\n",
       "    </tr>\n",
       "    <tr>\n",
       "      <th>1</th>\n",
       "      <td>1986-03-14</td>\n",
       "      <td>0.065003</td>\n",
       "    </tr>\n",
       "    <tr>\n",
       "      <th>2</th>\n",
       "      <td>1986-03-17</td>\n",
       "      <td>0.066124</td>\n",
       "    </tr>\n",
       "    <tr>\n",
       "      <th>3</th>\n",
       "      <td>1986-03-18</td>\n",
       "      <td>0.064443</td>\n",
       "    </tr>\n",
       "    <tr>\n",
       "      <th>4</th>\n",
       "      <td>1986-03-19</td>\n",
       "      <td>0.063322</td>\n",
       "    </tr>\n",
       "  </tbody>\n",
       "</table>\n",
       "</div>"
      ],
      "text/plain": [
       "        Date  Adj Close\n",
       "0 1986-03-13   0.062761\n",
       "1 1986-03-14   0.065003\n",
       "2 1986-03-17   0.066124\n",
       "3 1986-03-18   0.064443\n",
       "4 1986-03-19   0.063322"
      ]
     },
     "execution_count": 5,
     "metadata": {},
     "output_type": "execute_result"
    }
   ],
   "source": [
    "stock['Date'] = pd.to_datetime(stock['Date'])\n",
    "ds_stock = stock[[\"Date\", \"Adj Close\"]]\n",
    "ds_stock.head()"
   ]
  },
  {
   "cell_type": "markdown",
   "metadata": {},
   "source": [
    "# Indexing the data according to time series"
   ]
  },
  {
   "cell_type": "code",
   "execution_count": 6,
   "metadata": {},
   "outputs": [
    {
     "data": {
      "text/plain": [
       "DatetimeIndex(['1986-03-13', '1986-03-14', '1986-03-17', '1986-03-18',\n",
       "               '1986-03-19', '1986-03-20', '1986-03-21', '1986-03-24',\n",
       "               '1986-03-25', '1986-03-26',\n",
       "               ...\n",
       "               '2019-08-28', '2019-08-29', '2019-08-30', '2019-09-03',\n",
       "               '2019-09-04', '2019-09-05', '2019-09-06', '2019-09-09',\n",
       "               '2019-09-10', '2019-09-11'],\n",
       "              dtype='datetime64[ns]', name='Date', length=8444, freq=None)"
      ]
     },
     "execution_count": 6,
     "metadata": {},
     "output_type": "execute_result"
    }
   ],
   "source": [
    "ds = ds_stock.set_index('Date')\n",
    "ds.index"
   ]
  },
  {
   "cell_type": "markdown",
   "metadata": {},
   "source": [
    "Since we want to divide the data set into different timeframes. And working with current DateTime data can be tricky, therefore we will use the average of daily \"Adj Close\" price for a particular month of a year and the start of each month corresponding to the time stamp."
   ]
  },
  {
   "cell_type": "code",
   "execution_count": 8,
   "metadata": {},
   "outputs": [
    {
     "data": {
      "text/plain": [
       "Date\n",
       "2018-01-01    87.549235\n",
       "2018-02-01    89.028846\n",
       "2018-03-01    90.718006\n",
       "2018-04-01    91.026307\n",
       "2018-05-01    94.911478\n",
       "Freq: MS, Name: Adj Close, dtype: float64"
      ]
     },
     "execution_count": 8,
     "metadata": {},
     "output_type": "execute_result"
    }
   ],
   "source": [
    "y = ds['Adj Close'].resample('MS').mean()\n",
    "y['2018':].head()"
   ]
  },
  {
   "cell_type": "markdown",
   "metadata": {},
   "source": [
    "# Check the link to set the Recession timeframe:\n",
    "\n",
    "https://en.wikipedia.org/wiki/List_of_recessions_in_the_United_States"
   ]
  },
  {
   "cell_type": "markdown",
   "metadata": {},
   "source": [
    "# Dividing the dataset into Recession timeframe"
   ]
  },
  {
   "cell_type": "code",
   "execution_count": 9,
   "metadata": {},
   "outputs": [],
   "source": [
    "NR1 = y[:'1990-05']\n",
    "\n",
    "# Early 1990s recession in the United States:\n",
    "\n",
    "R1 = y['1990-06':'1991-03']\n",
    "\n",
    "NR2 = y['1991-04':'2001-02']\n",
    "\n",
    "# Early 2000s recession:\n",
    "\n",
    "R2 = y['2001-03':'2001-11']\n",
    "\n",
    "NR3 = y['2001-12':'2007-11']\n",
    "\n",
    "# Great Recession:\n",
    "\n",
    "R3 = y['2007-12':'2009-06']\n",
    "\n",
    "NR4 = y['2009-07':]"
   ]
  },
  {
   "cell_type": "markdown",
   "metadata": {},
   "source": [
    "# Visualizing S&P Monthly average \"Adj Close\" price time series data"
   ]
  },
  {
   "cell_type": "code",
   "execution_count": 10,
   "metadata": {},
   "outputs": [
    {
     "data": {
      "text/plain": [
       "<matplotlib.legend.Legend at 0x1b7ccd564a8>"
      ]
     },
     "execution_count": 10,
     "metadata": {},
     "output_type": "execute_result"
    },
    {
     "data": {
      "image/png": "[encoded data removed]",
      "text/plain": [
       "<Figure size 1080x720 with 1 Axes>"
      ]
     },
     "metadata": {
      "needs_background": "light"
     },
     "output_type": "display_data"
    }
   ],
   "source": [
    "plt.figure(figsize=(15,10))\n",
    "plt.grid(True)\n",
    "plt.plot(NR1,label='Before Early 1990s recession in the United States')\n",
    "plt.plot(R1, label='Early 1990s recession in the United States')\n",
    "plt.plot(NR2,label='After Early 1990s recession in the United States')\n",
    "plt.plot(R2, label='Early 2000s recession')\n",
    "plt.plot(NR3,label='After Early 2000s recession')\n",
    "plt.plot(R3, label='Great recession')\n",
    "plt.plot(NR4, label='After Great recession')\n",
    "plt.ylabel('Monthly Mean Price')\n",
    "plt.xlabel('Date')\n",
    "plt.legend(loc=2)"
   ]
  },
  {
   "cell_type": "code",
   "execution_count": null,
   "metadata": {},
   "outputs": [],
   "source": []
  }
 ],
 "metadata": {
  "kernelspec": {
   "display_name": "Python 3",
   "language": "python",
   "name": "python3"
  },
  "language_info": {
   "codemirror_mode": {
    "name": "ipython",
    "version": 3
   },
   "file_extension": ".py",
   "mimetype": "text/x-python",
   "name": "python",
   "nbconvert_exporter": "python",
   "pygments_lexer": "ipython3",
   "version": "3.7.3"
  }
 },
 "nbformat": 4,
 "nbformat_minor": 2
}
